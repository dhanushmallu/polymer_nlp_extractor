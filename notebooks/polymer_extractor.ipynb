{
 "cells": [
  {
   "cell_type": "code",
   "id": "initial_id",
   "metadata": {
    "collapsed": true,
    "ExecuteTime": {
     "end_time": "2025-07-18T12:44:50.045114Z",
     "start_time": "2025-07-18T12:44:46.235629Z"
    }
   },
   "source": [
    "# Install dependencies (only in Colab)\n",
    "import os\n",
    "from polymer_extractor.utils.paths import PROJECT_ROOT\n",
    "from polymer_extractor.utils.paths import WORKSPACE_DIR\n",
    "from polymer_extractor.utils.logging import Logger\n",
    "\n",
    "project_root = PROJECT_ROOT\n",
    "workspace_dir = WORKSPACE_DIR\n",
    "logger = Logger()\n",
    "\n",
    "try:\n",
    "    import appwrite\n",
    "    from polymer_extractor.cli import cli\n",
    "except ImportError:\n",
    "    print(\"Installing dependencies...\")\n",
    "    !pip install -r {project_root}/requirements.txt --quiet\n",
    "    import appwrite\n",
    "    from polymer_extractor import cli\n",
    "    print(\"Dependencies installed successfully.\")\n"
   ],
   "outputs": [
    {
     "name": "stdout",
     "output_type": "stream",
     "text": [
      "Installing dependencies...\n",
      "Dependencies installed successfully.\n"
     ]
    },
    {
     "name": "stderr",
     "output_type": "stream",
     "text": [
      "Could not find platform independent libraries <prefix>\n"
     ]
    }
   ],
   "execution_count": 5
  },
  {
   "metadata": {
    "ExecuteTime": {
     "end_time": "2025-07-18T14:40:57.448663Z",
     "start_time": "2025-07-18T14:40:55.096364Z"
    }
   },
   "cell_type": "code",
   "source": [
    "\n",
    "\n",
    "logger = Logger()\n",
    "# Log startup\n",
    "logger.info(\"Initializing Polymer Extractor Environment\")\n",
    "logger.info(f\"Root Project: {project_root}\")\n",
    "logger.info(f\"Workspace Directory: {workspace_dir}\")\n"
   ],
   "id": "b9ec0d8585956838",
   "outputs": [
    {
     "name": "stdout",
     "output_type": "stream",
     "text": [
      "2025-07-18T17:40:55.156114 [INFO] GLOBAL: Initializing Polymer Extractor Environment\n",
      "2025-07-18T17:40:56.561640 [INFO] GLOBAL: PROJECT_ROOT: D:\\Users\\Kibocha\\OneDrive - Kibocha\\Workstation\\1_in_progress\\polymer_nlp_extractor\\polymer_extractor\n",
      "2025-07-18T17:40:57.005968 [INFO] GLOBAL: CUSTOM_DATA_DIR: D:\\Users\\Kibocha\\OneDrive - Kibocha\\Workstation\\1_in_progress\\polymer_nlp_extractor\\polymer_extractor\\workspace\n"
     ]
    }
   ],
   "execution_count": 6
  },
  {
   "metadata": {
    "ExecuteTime": {
     "end_time": "2025-07-18T14:42:41.384127Z",
     "start_time": "2025-07-18T14:42:33.796984Z"
    }
   },
   "cell_type": "code",
   "source": [
    "from polymer_extractor.services.setup_service import SetupService\n",
    "\n",
    "setup_service = SetupService()\n",
    "\n",
    "try:\n",
    "    setup_service.ensure_buckets()\n",
    "    logger.info(\"All Appwrite buckets initialized successfully.\")\n",
    "except Exception as e:\n",
    "    logger.error(f\"Failed to initialize Appwrite buckets: {e}\")\n",
    "    raise\n"
   ],
   "id": "5364ab44463b5576",
   "outputs": [
    {
     "name": "stdout",
     "output_type": "stream",
     "text": [
      "2025-07-18T17:42:34.238867 [INFO] appwrite_schema: Bucket 'bucket_models' already exists.\n",
      "2025-07-18T17:42:35.101705 [INFO] appwrite_schema: Bucket 'bucket_tei_xml' already exists.\n",
      "2025-07-18T17:42:35.978165 [INFO] appwrite_schema: Bucket 'bucket_sentences' already exists.\n",
      "2025-07-18T17:42:36.847998 [INFO] appwrite_schema: Bucket 'bucket_token_windows' already exists.\n",
      "2025-07-18T17:42:37.739291 [INFO] appwrite_schema: Bucket 'bucket_system_logs' already exists.\n",
      "2025-07-18T17:42:38.643427 [INFO] appwrite_schema: Bucket 'bucket_datasets_training' already exists.\n",
      "2025-07-18T17:42:39.518511 [INFO] appwrite_schema: Bucket 'bucket_datasets_testing' already exists.\n",
      "2025-07-18T17:42:40.420577 [INFO] appwrite_schema: Bucket 'bucket_exports' already exists.\n",
      "2025-07-18T17:42:40.894366 [INFO] GLOBAL: All Appwrite buckets initialized successfully.\n"
     ]
    }
   ],
   "execution_count": 7
  },
  {
   "metadata": {
    "ExecuteTime": {
     "end_time": "2025-07-18T14:42:53.050967Z",
     "start_time": "2025-07-18T14:42:49.885219Z"
    }
   },
   "cell_type": "code",
   "source": [
    "try:\n",
    "    setup_service.ensure_collections()\n",
    "    logger.info(\"All Appwrite collections and attributes initialized successfully.\")\n",
    "except Exception as e:\n",
    "    logger.error(f\"Failed to initialize Appwrite collections: {e}\")\n",
    "    raise\n"
   ],
   "id": "8845f5bcb6d78e49",
   "outputs": [
    {
     "name": "stdout",
     "output_type": "stream",
     "text": [
      "2025-07-18T17:42:50.373972 [INFO] appwrite_schema: Collection 'metadata' already exists.\n",
      "2025-07-18T17:42:51.273932 [INFO] appwrite_schema: Collection 'extractions' already exists.\n",
      "2025-07-18T17:42:52.165581 [INFO] appwrite_schema: Collection 'system_logs' already exists.\n",
      "2025-07-18T17:42:52.611786 [INFO] GLOBAL: All Appwrite collections and attributes initialized successfully.\n"
     ]
    }
   ],
   "execution_count": 8
  },
  {
   "metadata": {
    "ExecuteTime": {
     "end_time": "2025-07-18T14:43:02.496031Z",
     "start_time": "2025-07-18T14:43:00.712118Z"
    }
   },
   "cell_type": "code",
   "source": [
    "logger.debug(\"This is a DEBUG log for testing Appwrite system_logs.\", module=\"colab_setup\")\n",
    "logger.info(\"This is an INFO log for testing Appwrite system_logs.\", module=\"colab_setup\")\n",
    "logger.warning(\"This is a WARNING log for testing Appwrite system_logs.\", module=\"colab_setup\")\n",
    "logger.error(\"This is an ERROR log for testing Appwrite system_logs.\", module=\"colab_setup\")\n"
   ],
   "id": "98cb54e0ce0168c3",
   "outputs": [
    {
     "name": "stdout",
     "output_type": "stream",
     "text": [
      "2025-07-18T17:43:00.716986 [DEBUG] colab_setup: This is a DEBUG log for testing Appwrite system_logs.\n",
      "2025-07-18T17:43:01.151807 [INFO] colab_setup: This is an INFO log for testing Appwrite system_logs.\n",
      "2025-07-18T17:43:01.592155 [WARNING] colab_setup: This is a WARNING log for testing Appwrite system_logs.\n",
      "2025-07-18T17:43:02.049190 [ERROR] colab_setup: This is an ERROR log for testing Appwrite system_logs.\n"
     ]
    }
   ],
   "execution_count": 9
  },
  {
   "metadata": {
    "ExecuteTime": {
     "end_time": "2025-07-18T14:43:51.249566Z",
     "start_time": "2025-07-18T14:43:49.870711Z"
    }
   },
   "cell_type": "code",
   "source": [
    "from appwrite.exception import AppwriteException\n",
    "\n",
    "\n",
    "db_id = \"polymer-nlp-extractor-db\"\n",
    "\n",
    "try:\n",
    "    collections = setup_service.list_collections(db_id)\n",
    "    buckets = setup_service.list_buckets()\n",
    "\n",
    "    print(\"Collections in Appwrite:\")\n",
    "    for coll in collections['collections']:\n",
    "        print(f\" - {coll['$id']}\")\n",
    "\n",
    "    print(\"\\nBuckets in Appwrite:\")\n",
    "    for bucket in buckets['buckets']:\n",
    "        print(f\" - {bucket['$id']}\")\n",
    "\n",
    "    logger.info(\"Appwrite schema verified successfully.\")\n",
    "except AppwriteException as e:\n",
    "    logger.error(f\"Failed to verify Appwrite schema: {e}\")\n",
    "    raise\n"
   ],
   "id": "ecf1826e4339d1b1",
   "outputs": [
    {
     "name": "stdout",
     "output_type": "stream",
     "text": [
      "Collections in Appwrite:\n",
      " - metadata\n",
      " - extractions\n",
      " - system_logs\n",
      "\n",
      "Buckets in Appwrite:\n",
      " - bucket_models\n",
      " - bucket_tei_xml\n",
      " - bucket_sentences\n",
      " - bucket_token_windows\n",
      " - bucket_system_logs\n",
      " - bucket_datasets_training\n",
      " - bucket_datasets_testing\n",
      " - bucket_exports\n",
      "2025-07-18T17:43:50.795992 [INFO] GLOBAL: Appwrite schema verified successfully.\n"
     ]
    }
   ],
   "execution_count": 10
  }
 ],
 "metadata": {
  "kernelspec": {
   "display_name": "Python 3",
   "language": "python",
   "name": "python3"
  },
  "language_info": {
   "codemirror_mode": {
    "name": "ipython",
    "version": 2
   },
   "file_extension": ".py",
   "mimetype": "text/x-python",
   "name": "python",
   "nbconvert_exporter": "python",
   "pygments_lexer": "ipython2",
   "version": "2.7.6"
  }
 },
 "nbformat": 4,
 "nbformat_minor": 5
}
